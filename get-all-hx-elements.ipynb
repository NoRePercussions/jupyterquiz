{
 "cells": [
  {
   "cell_type": "code",
   "execution_count": 2,
   "id": "5c76039b-1f5b-4278-bf79-8aa59f32f6d4",
   "metadata": {},
   "outputs": [
    {
     "data": {
      "text/html": [
       "<div id=\"VFmUaSzZcRCx\" ></div>"
      ],
      "text/plain": [
       "<IPython.core.display.HTML object>"
      ]
     },
     "metadata": {},
     "output_type": "display_data"
    },
    {
     "data": {
      "application/javascript": [
       " var current=VFmUaSzZcRCx;\n",
       "while (!(current.classList.contains('jp-NotebookPanel-notebook')))\n",
       "{\n",
       "    //console.log(current);\n",
       "    current=current.parentNode;\n",
       "}\n",
       "var h2s=current.getElementsByTagName('H2');\n",
       "for (let i=0; i<h2s.length; i++) {\n",
       "   console.log(h2s[i]);\n",
       "   }\n"
      ],
      "text/plain": [
       "<IPython.core.display.Javascript object>"
      ]
     },
     "metadata": {},
     "output_type": "display_data"
    }
   ],
   "source": [
    "import string\n",
    "import random\n",
    "from IPython.display import display,Javascript, HTML\n",
    "\n",
    "letters = string.ascii_letters\n",
    "div_id = ''.join(random.choice(letters) for i in range(12))\n",
    "mydiv =  f'<div id=\"{div_id}\" ></div>'\n",
    "\n",
    "js = f' var current={div_id};'\n",
    "js +='''\n",
    "while (!(current.classList.contains('jp-NotebookPanel-notebook')))\n",
    "{\n",
    "    //console.log(current);\n",
    "    current=current.parentNode;\n",
    "}\n",
    "var h2s=current.getElementsByTagName('H2');\n",
    "for (let i=0; i<h2s.length; i++) {\n",
    "   console.log(h2s[i]);\n",
    "   }\n",
    "'''\n",
    "\n",
    "display(HTML(mydiv))\n",
    "display(Javascript(js))"
   ]
  },
  {
   "cell_type": "code",
   "execution_count": null,
   "id": "82a350b3-a02b-4ff6-a455-d57e568f7c9d",
   "metadata": {},
   "outputs": [],
   "source": []
  }
 ],
 "metadata": {
  "kernelspec": {
   "display_name": "Python 3 (ipykernel)",
   "language": "python",
   "name": "python3"
  },
  "language_info": {
   "codemirror_mode": {
    "name": "ipython",
    "version": 3
   },
   "file_extension": ".py",
   "mimetype": "text/x-python",
   "name": "python",
   "nbconvert_exporter": "python",
   "pygments_lexer": "ipython3",
   "version": "3.9.15"
  }
 },
 "nbformat": 4,
 "nbformat_minor": 5
}
